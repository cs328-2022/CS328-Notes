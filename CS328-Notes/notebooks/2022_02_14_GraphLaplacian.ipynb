{
 "cells": [
  {
   "cell_type": "markdown",
   "metadata": {},
   "source": [
    "# Graph Laplacian and its Eigenvalues\n",
    "---"
   ]
  },
  {
   "cell_type": "markdown",
   "metadata": {},
   "source": [
    "## Laplacian Matrix\n",
    "\n",
    "Given a graph $ G = (V,E) $ where $ V = \\{ v_1, v_2, ..., v_n \\} $ is the set of nodes and $ E = \\{ e_1, e_2, ..., e_n \\} $ is the set of edges then Laplacian Matrix is defined as\n",
    "\n",
    "$$ L = D - A $$\n",
    "\n",
    "where $ A $ is an adjacency matrix\n",
    "\n",
    "$$ A_{i, j} =\n",
    "    \\begin{cases}\n",
    "        1, \\text{if there is an edge between } v_i \\text{ and } v_j\\\\\n",
    "        0, \\text{otherwise}\n",
    "    \\end{cases}\n",
    "$$\n",
    "\n",
    "and $ D $ is a diagonal matrix\n",
    "\n",
    "$$ D_{i, j} =\n",
    "    \\begin{cases}\n",
    "        degree(v_i), \\text{ if } i \\text{ == } j\\\\\n",
    "        0, \\text{otherwise}\n",
    "    \\end{cases}\n",
    "$$\n",
    "\n",
    "$\\rightarrow \\text{If edges of graph are weighted then } degree(v_i) = \\sum_j A_{ij}\\\\$\n",
    "\n",
    "Consider the following example\n",
    "\n",
    "```{figure} ../assets/2022_02_14_GraphLaplacian/example.jpeg\n",
    "   :name: fig-1\n",
    "\n",
    "   Node with weighted edges\n",
    "   ```\n",
    "\n",
    "As we can see from the above figure, the edges of the node are weighted. So the degree of the node will be 3+2+1.5=6.5 rather than 3.\n"
   ]
  },
  {
   "cell_type": "markdown",
   "metadata": {},
   "source": [
    "For irregular graphs we typically normalize $ L $ as\n",
    "\n",
    "$$ L = D^{-1/2}LD^{-1/2} = I - D^{-1/2}AD^{-1/2} $$\n",
    "\n",
    "where $ D^{-1/2} \\equiv $ diagonal matrix with $ i^{th} $ entry $ = \\frac{1}{\\sqrt{d_i}} $\n",
    "\n",
    "* Diagonal entries, $ L_{ii} = d_i $\n",
    "\n",
    "* Offdiagonal entries, \n",
    "    $$ L_{ij} = \n",
    "    \\begin{cases}\n",
    "        0, \\text{ if there is no edge between } i \\text{ and } j\\\\\n",
    "        -1, \\text{otherwise}\n",
    "    \\end{cases} \n",
    "    $$\n",
    "\n",
    "$ \\rightarrow $ Sum of each row of $ L $ is 0 as $ D_{ii} = \\sum_{j=1}^{n}A_{ij} $ and $ L = D - A $"
   ]
  },
  {
   "cell_type": "markdown",
   "metadata": {},
   "source": [
    "## Eigenvector/Eigenvalues of Laplacian Matrix"
   ]
  },
  {
   "cell_type": "markdown",
   "metadata": {},
   "source": [
    "1. $ \\forall $ $ \\lambda_i (\\frac{1}{d} L) \\in [0, 2] $<br><br>\n",
    "   $ \\lambda_i \\in [0, 2d]$<br><br>\n",
    "   $ \\lambda_i (\\frac{1}{d} L) \\in [0, d] $ <br><br>\n",
    "\n",
    "   Normalized Laplacian = $ D^{-1/2}LD^{-1/2} $\n",
    "\n",
    "   For regular graphs (d)\n",
    "   \n",
    "   $$ D^{-1/2} = \n",
    "   \\begin{bmatrix}\n",
    "      \\frac{1}{\\sqrt{d}} & & \\\\\n",
    "      & \\ddots & \\\\\n",
    "      & & \\frac{1}{\\sqrt{d}}\n",
    "   \\end{bmatrix} = \\frac{1}{\\sqrt{d}} I $$\n",
    "\n",
    "   Normalized Laplacian = $ (\\frac{1}{\\sqrt{d}} I) L (\\frac{1}{\\sqrt{d}} I) = \\frac{1}{d}L $"
   ]
  },
  {
   "cell_type": "markdown",
   "metadata": {},
   "source": [
    "2. $ \\lambda_1(L) = 0 \\\\ $\n",
    "   $ \\lambda_k(L) = 0 $ iff k disconnected components are present in graph\n",
    "\n",
    "   For example, consider the following graph\n",
    "   \n",
    "   ```{figure} ../assets/2022_02_14_GraphLaplacian/example2.jpeg\n",
    "   :name: fig-2\n",
    "\n",
    "   A disconnected graph\n",
    "   ```\n",
    "\n",
    "$$ A = \n",
    "\\begin{bmatrix}\n",
    "   0 \\hspace{2mm} 1 \\hspace{2mm} 1 \\hspace{2mm} 0 \\hspace{2mm} 0 \\hspace{2mm} 0 \\hspace{2mm} 0 \\hspace{2mm} \\\\\n",
    "   1 \\hspace{2mm} 0 \\hspace{2mm} 0 \\hspace{2mm} 1 \\hspace{2mm} 0 \\hspace{2mm} 0 \\hspace{2mm} 0 \\hspace{2mm} \\\\\n",
    "   1 \\hspace{2mm} 0 \\hspace{2mm} 0 \\hspace{2mm} 1 \\hspace{2mm} 0 \\hspace{2mm} 0 \\hspace{2mm} 0 \\hspace{2mm} \\\\\n",
    "   0 \\hspace{2mm} 1 \\hspace{2mm} 1 \\hspace{2mm} 0 \\hspace{2mm} 0 \\hspace{2mm} 0 \\hspace{2mm} 0 \\hspace{2mm} \\\\\n",
    "   0 \\hspace{2mm} 0 \\hspace{2mm} 0 \\hspace{2mm} 0 \\hspace{2mm} 0 \\hspace{2mm} 1 \\hspace{2mm} 1 \\hspace{2mm} \\\\\n",
    "   0 \\hspace{2mm} 0 \\hspace{2mm} 0 \\hspace{2mm} 0 \\hspace{2mm} 1 \\hspace{2mm} 0 \\hspace{2mm} 1 \\hspace{2mm} \\\\\n",
    "   0 \\hspace{2mm} 0 \\hspace{2mm} 0 \\hspace{2mm} 0 \\hspace{2mm} 1 \\hspace{2mm} 1 \\hspace{2mm} 0 \\hspace{2mm} \\\\\n",
    "\\end{bmatrix}$$\n",
    "\n",
    "   $\\hspace{7mm} \\lambda_1(L) = 0 $ using all ones eigen vector\n",
    "   $ \\\\ \\hspace{7mm} \\lambda_2(L) = 0 \\\\ $\n",
    "\n",
    "   $$ \\hspace{7mm} v_1 = \n",
    "   \\begin{bmatrix}\n",
    "    1 \\\\ 1 \\\\ 1 \\\\ 1 \\\\ 0 \\\\ 0 \\\\ 0 \n",
    "   \\end{bmatrix} \\Rightarrow L.v_1 = \\begin{bmatrix}\n",
    "    0 \\\\ 0 \\\\ 0 \\\\ 0 \\\\ 0 \\\\ 0 \\\\ 0 \n",
    "   \\end{bmatrix}$$\n",
    "\n",
    "   $$ \\hspace{7mm} v_2 = \n",
    "   \\begin{bmatrix}\n",
    "    0 \\\\ 0 \\\\ 0 \\\\ 0 \\\\ 1 \\\\ 1 \\\\ 1 \n",
    "   \\end{bmatrix} \\Rightarrow L.v_2 = \\begin{bmatrix}\n",
    "    0 \\\\ 0 \\\\ 0 \\\\ 0 \\\\ 0 \\\\ 0 \\\\ 0 \n",
    "   \\end{bmatrix}$$\n",
    "\n",
    "$ \\rightarrow v_1 $ and $ v_2 $ are orthogonal to each other.\n",
    "\n",
    "$ \\rightarrow $ Looking at the values of $ v_2(L), ...., v_k(L) $ tells us what the components are.\n"
   ]
  },
  {
   "cell_type": "markdown",
   "metadata": {},
   "source": [
    "#### What if the graph is not disconnected?\n",
    "\n",
    "$ \\hspace{7mm} \\lambda_2(L) $ will still give a \"measure of how much, $ G $ resembles a 2 disconnected components, i.e., sparsest cut\"."
   ]
  },
  {
   "cell_type": "markdown",
   "metadata": {},
   "source": [
    "<footer>\n",
    "    Author(s): Avnish Ranwa, Divyanshu Tripathy, Prachika Kanodia\n",
    "</footer>"
   ]
  }
 ],
 "metadata": {
  "language_info": {
   "name": "python"
  },
  "orig_nbformat": 4
 },
 "nbformat": 4,
 "nbformat_minor": 2
}
