{
  "cells": [
    {
      "cell_type": "markdown",
      "metadata": {
        "id": "p8OcrV4XjA1r"
      },
      "source": [
        "# Gaussian Annulus Theorem\n",
        "For a d-dimensional spherical Gaussian with unit variance in each direction, for any β ≤ √d, $$3e^{-cβ^{2}}$$\n",
        "all but at most of the probability mass lies within the annulus √d-β ≤ |x| ≤ √d+β, where c is a fixed positive constant.\n",
        "\n",
        "# Why does this happen?\n",
        "Intention: \n",
        "Consider annuali of this thickness at increasing distance from centre.\n",
        "* The value of pdf decreases with increasing radii\n",
        "* The value of the annulus increases exponentially with increasing radii\n",
        "# Relation between two samples\n",
        "\n",
        "* Suppose we sample\n",
        " ${x_i,x_j}$\n",
        " both from N(0,I)--- what is the angle between them?\n",
        "# Angle between two samples\n",
        "The previous analysis tells us for \n",
        "$ x.y ~ N(0,$ ${I_d}) $\n",
        "$ {||x-y||^2 = 2d ± θ(√d)} $\n",
        "* $ {||x||^2 + ||y||^2 - 2 {X^T}y} = {2d ± θ(√d)}$\n",
        "\n",
        "We also saw $ {||x||^2 , ||y||^2 = {d ± θ(√d)}}$\n",
        "\n",
        "* $ X^Ty = O(√d)$\n",
        "* $\n",
        "cos(<(x,y)>) = \\frac{O(√d)}{θ(√d)} = O(d^\\frac{-1}{2})$\n",
        "* x is almost orthogonal to y"
      ]
    },
    {
      "cell_type": "markdown",
      "metadata": {},
      "source": [
        "<footer>\n",
        "Author(s): Abhinav Kumar, Talari Venkata Sunny, Mekala Rishitha Ravi \n",
        "</footer>"
      ]
    }
  ],
  "metadata": {
    "colab": {
      "name": "2022_03_21_Chi-Squared Distribution, Gaussian Annulus Theorem, Distance between points sampled from a distribution.ipynb",
      "provenance": []
    },
    "kernelspec": {
      "display_name": "Python 3",
      "name": "python3"
    },
    "language_info": {
      "name": "python"
    }
  },
  "nbformat": 4,
  "nbformat_minor": 0
}
