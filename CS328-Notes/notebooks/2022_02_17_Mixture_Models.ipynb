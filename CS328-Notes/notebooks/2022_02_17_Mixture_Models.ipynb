{
  "cells": [
    {
      "cell_type": "markdown",
      "metadata": {},
      "source": [
        "# Mixture Models\n",
        "* Data is assumed to come from one of many distributions\n",
        "\n",
        "     </b>  \n",
        "*$D_{1}$(x), $D_{2}$(x) ...$D_{k}$(x) - the k difference distributions\n",
        "*Each data point is picked from one of these"
      ]
    },
    {
      "cell_type": "markdown",
      "metadata": {
        "id": "wQhyIixsIKmy"
      },
      "source": [
        "\n",
        "<!-- {figure} ../assets/2022_02_01_DensestSubgraph_Maxflowalgorithm/Densest_subgraph_1.jpg -->\n",
        "\n",
        "\n",
        "* ### Motivation:\n",
        "\n",
        " <!-- {{{Put in notes}}} -->\n",
        "Formalizing the data generative model and coming up with principled soft/hard clustering algorithms\n",
        "\n",
        "#General Mixture Model\n",
        "* Model can be \"hard\" (each point from single cluster), or \"soft\" (each point belongs to multiple clusters)\n",
        " * Appropriateness depends on context\n",
        " * Captures difference between hard and soft clustering\n",
        "* Prominent examples\n",
        " * Gaussian mixture\n",
        " * Topic models for documents\n",
        "\n",
        "# Applications for mixture models\n",
        "* Formalization of clustering - allows us to view clustering as a real parameter estimation problem, and thereby derive the clustering definition\n",
        "\n",
        "* Often, even when data is not cleanly clusterable, can fit a mixture to estimate different parameters of subgroups\n",
        "\n",
        "# Example 1 - house price modelling\n",
        "\n",
        "* Data - prices of N houses\n",
        "* House price depends on various factors\n",
        "* Generative model\n",
        " * Price  = function(neighborhood, area, design)+noise\n",
        "\n",
        "\n",
        "# Example 2 - topics in a document\n",
        "* Data = set of documents \n",
        " * document = bag of words\n",
        "* Topic = a probability distribution over vocabulary\n",
        "* Generative model\n",
        " * Choose a topic at random\n",
        " * Choose words for that topic\n",
        " \n",
        "\n",
        "# Example 3 - handwriting recognition \n",
        "\n",
        "* Data = 64 x 64 images, each of one handwritten digit \n",
        "* Generative model = pixel intensities from ideal digit + noise \n",
        "* Each mixture component = \n",
        "\n",
        "(fix an \"ideal\" way of writing a digit) + noise \n",
        "   \n",
        "* $\n",
        "D_{1}(x) = μ_{1} + noise\n",
        "$\n",
        "intensities that come from \"ideal 9\" query handwritten digit\n",
        "\n",
        "\n",
        "\n",
        "\n",
        "\n",
        "\n",
        "\n",
        "\n",
        "\n"
      ]
    },
    {
      "cell_type": "markdown",
      "metadata": {},
      "source": [
        "```{figure} ../assets/2022_04_02_Mixture_Models/12.png\n",
        "---\n",
        "height: 150px\n",
        "name: directive-fig\n",
        "---\n",
        "Here is my figure caption!\n",
        "```"
      ]
    },
    {
      "cell_type": "markdown",
      "metadata": {},
      "source": [
        "#Gaussian Mixture Model\n",
        "\n",
        "Each data point is generated first by choosing the particular Gaussian and then generating a sample from it \n",
        "\n",
        "```{note}\n",
        "Given the points, can we learn all the parameters, including the correct label of every point?\n",
        "```\n",
        " <!-- {{{Note}}} -->\n",
        "\n",
        "</b>  \n",
        "\n",
        "* D_{i}(x) = N(μ_{i}, σ^2_{i}), i = 1,2,....., \n",
        "```{figure} ../assets/2022_04_02_Mixture_Models/Movie.gif\n",
        "---\n",
        "height: 150px\n",
        "name: directive-fig\n",
        "---\n",
        "An example of Gaussian Mixture in image segmentation with grey histogram\n",
        "```\n",
        "Each data point is generated in the following manner:\n",
        "\n",
        "* Toss a k-faced dice, where probability of i^th face = $W_{i}$\n",
        "* If face j appears, then generate a point by sampling from \n",
        "</b> \n",
        "$\n",
        "D_{i}(x) = N(μ_{i},σ^2_{i})\n",
        "$\n",
        "<!-- {{{ - }}} -->\n",
        "```{figure} ../assets/2022_04_02_Mixture_Models/mixture.png\n",
        "---\n",
        "height: 150px\n",
        "name: directive-fig\n",
        "---\n",
        "This is an example of guassian mixture model with 2 componenets\n",
        "```\n",
        "\n",
        "Given the points only can we learn all the parameters, including the correct label of every point\n",
        "\n",
        " <b> Combined pdf = </b>  $\n",
        "  \\Sigma _{i≤n} w_{i}N(μ_{i},σ^2_{i})\n",
        "  $"
      ]
    },
    {
      "cell_type": "markdown",
      "metadata": {},
      "source": [
        "```{figure} ../assets/2022_04_02_Mixture_Models/34.png\n",
        "---\n",
        "height: 150px\n",
        "name: directive-fig\n",
        "---\n",
        "Here is my figure caption!\n",
        "```"
      ]
    },
    {
      "cell_type": "markdown",
      "metadata": {},
      "source": [
        "\n",
        "```{note}\n",
        "Bayesian Gaussian mixture model using plate notation.\n",
        "```"
      ]
    },
    {
      "cell_type": "markdown",
      "metadata": {},
      "source": [
        "```{figure} ../assets/2022_04_02_Mixture_Models/56.png\n",
        "---\n",
        "height: 150px\n",
        "name: directive-fig\n",
        "---\n",
        "Here is my figure caption!\n",
        "```"
      ]
    },
    {
      "cell_type": "markdown",
      "metadata": {},
      "source": [
        "# Observation\n",
        "\n",
        "For the Gaussian mixture model, the pdf is \n",
        " </b>  $\n",
        "  \\Sigma _{i≤n} w_{i}N(μ_{i},σ^2_{i})\n",
        "  $\n",
        "\n",
        "Is this the same as pdf to $\n",
        "w_{1}Z_{1} + ... w_{k}Z_{k}, where  \n",
        "$\n",
        "$\n",
        "Z_{i}~N(μ_{i},σ^2_{i})?\n",
        "$\n",
        "\n",
        "#Bit of history!\n",
        "\n",
        "* Originally proposed in 1894, Karl Pearson, to classify crab population\n",
        "* Proposed a \"method of moments\", required solving a 9th degree polynomial to find the roots!\n",
        "* Subsequent research yielded more efficient algorithm, under certain assumptions"
      ]
    },
    {
      "cell_type": "markdown",
      "metadata": {},
      "source": [
        "<footer>\n",
        "Author(s): Abhinav Kumar, Talari Venkata Sunny, Mekala Rishitha Ravi \n",
        "</footer>"
      ]
    },
    {
      "cell_type": "markdown",
      "metadata": {},
      "source": []
    }
  ],
  "metadata": {
    "colab": {
      "collapsed_sections": [],
      "name": "2022_04_02_Mixture Models.ipynb",
      "provenance": []
    },
    "kernelspec": {
      "display_name": "Python 3",
      "name": "python3"
    },
    "language_info": {
      "name": "python"
    }
  },
  "nbformat": 4,
  "nbformat_minor": 0
}
