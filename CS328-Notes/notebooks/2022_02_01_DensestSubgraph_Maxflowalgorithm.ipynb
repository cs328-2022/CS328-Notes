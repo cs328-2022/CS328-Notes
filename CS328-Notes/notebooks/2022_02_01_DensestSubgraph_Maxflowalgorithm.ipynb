{
 "cells": [
  {
   "cell_type": "markdown",
   "metadata": {},
   "source": [
    "# Densest Subgraphs\n",
    "---"
   ]
  },
  {
   "cell_type": "markdown",
   "metadata": {},
   "source": [
    "## Density of Subgraph \n",
    "\n",
    "* Density of a subgraph\n",
    "  * Density measures how tightly the components inside a subgraph are connected to each other.\n",
    "  * It does not care about the connectivity with the components outside the subgraph.  \n",
    "  \n",
    "  \n",
    "* Mathematically, Density of a subgraph is represented by the following formula:\n",
    "  \n",
    "  $$  D(S) = \\frac{e(S,S)}{|S|} ~~ ~~ ~~ ~~ ~~ ~~ ~~ ~~ ~~ ~~ ~~ - (1)$$ \n",
    "  \n",
    "  * e(S,S) is the number of edges between nodes both in S or e(S,S) = { ( x , y ) $\\in$ E ;  x $\\in$ S, y $\\in$ S }  \n",
    "  * |S| is the number of nodes in subgraph S.\n",
    "  \n",
    "* Significance of |S|\n",
    "  * Simply calculating e(S,S) won't be enough to determine how tighty the components are connected. For eg, in the figure shown below e(S,S) of Subgraph A is more however we can easily notice that subgraph B is more dense.\n",
    " \n",
    "  ```{figure} ../assets/mynotes/Subgraph_Comparision.jpg\n",
    "  ```\n",
    "  $$ Figure - 1 $$\n",
    "  * We can't consider denominator as ${|S|}^{2}$ as &nbsp; $ \\max\\limits_{S} \\frac{e(S,S)}{{|S|}^{2}}  $ is trivial, irrespective of the nature of graph.  \n",
    "  * However  &nbsp; $ \\max\\limits_{S} \\  \\frac{e(S,S)}{|S|}  $ is non-trivial for different types of graphs.\n",
    "\n",
    "\n",
    "\n",
    "``` {note} \n",
    "(|S|)(|S|-1) can't be considered as denominator (as it becomes zero for |S| = 1) even though it gives a tight upper bound on Density of Subgraph. \n",
    "```\n"
   ]
  },
  {
   "cell_type": "markdown",
   "metadata": {},
   "source": [
    "## Finding Densest Subgraphs\n",
    "---\n",
    "#### <u>Using Decision Problem</u> \n",
    "* Let us assume the Density of a Subgraph $\\ge$ a constant (say $\\frac{c}{2}$)\n",
    "* $ \\therefore  \\frac{e(S,S)}{|S|} \\ge \\frac{c}{2}$\n",
    "* On Rearranging, $ 2e(S,S) \\ge c|S|$\n",
    "* $\\because  2e(S,S) = deg(S) - e(S,\\overline{S}) $ ,&nbsp; $ deg(S) + e(S,\\overline{S}) \\ge c|S|$ \n",
    "* $ deg(S) + deg(\\overline{S}) - deg(\\overline{S}) - e(S,\\overline{S}) \\ge c|S| $\n",
    "* We know that, $ deg(S) + deg(\\overline{S}) = 2|E|$\n",
    "*  $ \\therefore 2|E| \\ge c|S| + deg(\\overline{S}) + e(S,\\overline{S})$ &nbsp;&nbsp;&nbsp;&nbsp;&nbsp;&nbsp;&nbsp;&nbsp;&nbsp;&nbsp;&nbsp;&nbsp;&nbsp;&nbsp;&nbsp;&nbsp;&nbsp;&nbsp;&nbsp;&nbsp;&nbsp;&nbsp;&nbsp;&nbsp;&nbsp;&nbsp;&nbsp;&nbsp;&nbsp;&nbsp; <b>- &nbsp;(2)</b> \n",
    "\n",
    "\n",
    "#### <u>Max Flow / Min-cut based Algorithm</u>\n",
    "* Maximum Flow or Min-cut algorithm is an algorithm that gives us the maximum feasible flow through a network or the minimum cuts required to stop the flow through the network. \n",
    "* We can find the densest subgraph by using a Decision problem where we need to find if there exist any subgraph S with density more than a fixed value let's say $ \\frac{c}{2}$.\n",
    "* Then using binary search it finds the maximum value of c for which there exists a subgraph such that $ \\frac{e(S,S)}{|S|}=\\frac{c}{2} $\n",
    "* <b>Max Flow Algorithm :-</b>\n",
    "  * Binary search on value of c \n",
    "    * Let the original graph be G.\n",
    "    * Now let us construct a new graph G' such that it has 2 extra nodes than G (Source and Sink).\n",
    "    * Connect all the nodes (undirected) in G to the source and assign weight of each edge as the degree of the node. For eg, if degree of node $\\nu$ is $ {d}_{i} $ then assign weight of edge from source to $\\nu$ as $ {d}_{i} $.\n",
    "    * Connect all the nodes to sink and assign weight of all the edges as c.\n",
    "    * Run the max flow algorithm (Ford-Fulkerson).\n",
    "    * It will always return a cut $\\le 2|E|$ .\n",
    "    * Assign Densest Subgraph as S (Shown in the figure).\n",
    "    * Repeat all the steps with new value of c as per binary search.\n",
    "  ```{figure} ../assets/mynotes/Densest_subgraph_2.jpg\n",
    "\n",
    "  ```\n",
    "* The runtime of this algorithm in O(log(C) ${|E|}^{2}$ U), where U is the value of maximum flow.\n",
    "\n"
   ]
  },
  {
   "cell_type": "markdown",
   "metadata": {},
   "source": [
    "## Analysis of Max-Flow / Min-Cut Algorithm\n",
    "---\n",
    "### <u>Different cases</u>:\n",
    "\n",
    "#### Case - 1\n",
    "\n",
    "```{figure} ../assets/mynotes/Densest_subgraph_1.jpg\n",
    "\n",
    "```\n",
    "$$ Figure - 2 $$\n",
    "* As you can see in the Figure - 2 that the min cut will atmost be 2|E| and we can always have a cut of less than 2|E|.\n",
    "* In this type of cut there is no densest graph since there are no nodes to the left of the cut.\n",
    "  \n",
    "#### Case - 2\n",
    "  \n",
    "```{figure} ../assets/mynotes/Densest_subgraph_2.jpg\n",
    "\n",
    "```\n",
    "$$ Figure - 3 $$\n",
    "\n",
    "* In Figure - 3, we can see that there is a subset of nodes which is to the left of min-cut.\n",
    "* This Subset satisfies the condition given by the right hand side of the equation $  2|E| \\ge c|S| + deg(\\overline{S}) + e(S,\\overline{S})$.\n",
    "* Hence for maximum value of c, this is the desired densest subgraph.\n"
   ]
  },
  {
   "cell_type": "markdown",
   "metadata": {},
   "source": []
  }
 ],
 "metadata": {
  "interpreter": {
   "hash": "f4effe78294fa7cb0430aa59d3613691dcd29f38c3913d669144903ca2f8065a"
  },
  "kernelspec": {
   "display_name": "Python 3.9.6 64-bit",
   "language": "python",
   "name": "python3"
  },
  "language_info": {
   "codemirror_mode": {
    "name": "ipython",
    "version": 3
   },
   "file_extension": ".py",
   "mimetype": "text/x-python",
   "name": "python",
   "nbconvert_exporter": "python",
   "pygments_lexer": "ipython3",
   "version": "3.9.6"
  },
  "orig_nbformat": 4
 },
 "nbformat": 4,
 "nbformat_minor": 2
}
