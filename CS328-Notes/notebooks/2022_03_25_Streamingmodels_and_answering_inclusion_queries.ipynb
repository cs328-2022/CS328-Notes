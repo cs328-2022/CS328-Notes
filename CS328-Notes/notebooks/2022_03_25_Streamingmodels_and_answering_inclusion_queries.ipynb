{
 "cells": [
  {
   "cell_type": "markdown",
   "id": "ebb06942",
   "metadata": {},
   "source": [
    "# Streaming Models and Answering Inclusion Queries"
   ]
  },
  {
   "cell_type": "markdown",
   "id": "41dd0a83",
   "metadata": {},
   "source": [
    "Stream sampling is a process of collecting a representative sample of the elements of a data stream.The sample is usually much smaller than the entire stream, but can be designed to retain many important characteristics of the stream, and can be used to estimate many important aggregates on the stream. <br>\n",
    "<br>In this section, we are going to learn about memory efficent computing when the space is at crunch. We are assuming two important assumptions in this section. \n",
    "1. data arrives in a stream or streams and if it is not processed or stored, then it is lost forever.\n",
    "2. data arrives so rapidly that it is not feasible to store it and then interact with it at the time of our choosing."
   ]
  },
  {
   "cell_type": "markdown",
   "id": "da589f5d",
   "metadata": {},
   "source": [
    "```{admonition} Examples of the streaming data\n",
    "- Sensor data: Imagine a temperature sensor above the ocean, sending information about the surface temperature to the base station at every hour.\n",
    "- Image data: Sateliites often send infromation to the earth which consists of terabytes of the information.\n",
    "- Internet and Web Traffic\n",
    "```\n",
    "\n"
   ]
  },
  {
   "cell_type": "markdown",
   "id": "2a95fc81",
   "metadata": {},
   "source": [
    "```{prf:remark}\n",
    ":nonumber : True\n",
    "- Streams often deliver elements very rapidly. We must process them quickly otherwise we may lose the opportunity to process them at all. Thus it is important that the streaming algortihm is executed in the main memory with rare accessing the secondary memory.\n",
    "- Even if the stream requires only small portion of main memory for the computation, the requirements of all streams together can exceed the main memory.\n",
    "```"
   ]
  },
  {
   "cell_type": "markdown",
   "id": "d45a5b1e",
   "metadata": {},
   "source": [
    "## Sampling Data in a Stream"
   ]
  },
  {
   "cell_type": "markdown",
   "id": "6c07297e",
   "metadata": {},
   "source": [
    "Suppose we have $a_1$, $a_2$, $a_3$, ...... $a_n$ distinct items in a stream belongs to some universe U. Our goal is to sample a set S from the stream such that $|$S$|$ $=$ $k$ and p[x $\\in$ S] = $\\frac kn$ $\\forall$$x$ in the stream."
   ]
  },
  {
   "cell_type": "markdown",
   "id": "87711cbd",
   "metadata": {},
   "source": [
    "There are two cases possible while sampling from the stream based on the length of the stream."
   ]
  },
  {
   "cell_type": "markdown",
   "id": "f7f318f3",
   "metadata": {},
   "source": [
    "Case1 : We know the length of stream is known and finite. "
   ]
  },
  {
   "cell_type": "markdown",
   "id": "a285660c",
   "metadata": {},
   "source": [
    "- Can choose k random positions out of n and use the entries in those positions\n",
    "- The samples are obtained only after reading through the entire stream"
   ]
  },
  {
   "cell_type": "markdown",
   "id": "ffc1786d",
   "metadata": {},
   "source": [
    "Case2 : We don't know the length of the stream i.e; n is unknown or n is infinite."
   ]
  },
  {
   "cell_type": "markdown",
   "id": "2c5654af",
   "metadata": {},
   "source": [
    "We can use Reservoir Sampling"
   ]
  },
  {
   "cell_type": "markdown",
   "id": "915248de",
   "metadata": {},
   "source": [
    "## Reservoir Sampling"
   ]
  },
  {
   "cell_type": "markdown",
   "id": "96308687",
   "metadata": {},
   "source": [
    "Assume we are sampling only single item then k=1.\n",
    "Suppose we have $a_1$, $a_2$, $a_3$, ...$a_i$... $a_n$ distinct items in a stream belongs to some universe U where we don't know n in advance. then\n",
    "\n",
    "\n",
    "$$ \n",
    "pr[a_i \\ is \\ chosen] = \\frac 1n \n",
    "$$\n",
    "\n",
    "Since k=1 we will have a one memory cell to store one sample from the data. Let that memeory cell be s.\n",
    "\n",
    "Now the probability of $a_i$ replacing the element previously in the memory cell is $\\frac 1i$ and move on is $1 - \\frac1i$.\n"
   ]
  },
  {
   "cell_type": "markdown",
   "id": "97558969",
   "metadata": {},
   "source": [
    "Now let us suppose the ith item is in the final stored in the memory cell. \n",
    "\n",
    "$$\n",
    "\n",
    "pr[s = a_i] = \\frac 1i \\times(1-\\frac1{i+1})\\times(1-\\frac 1{i+2})\\times.......\\times(1-\\frac 1n)\n",
    "\n",
    "$$\n",
    "\n",
    "since ith element must be chosen and (i+1)th, (i+2)th...nth elements must move on.\n",
    "\n",
    "Hence,\n",
    "\n",
    "$$\n",
    "\n",
    "pr[s = a_i] = \\frac 1i \\times(\\frac{i}{i+1})\\times(\\frac{i+1}{i+2})\\times ....... \\times\\frac{n-1}n)  pr[s = a_i] = \\frac 1n\n",
    "\n",
    "$$"
   ]
  },
  {
   "cell_type": "markdown",
   "id": "be7c2f0a",
   "metadata": {},
   "source": [
    "With this information, now let us solve for the case any k. "
   ]
  },
  {
   "cell_type": "markdown",
   "id": "3912b304",
   "metadata": {},
   "source": [
    "Suppose if we want to make sampling k items with replacement of items then do k parallel independent reservoir sampling for single items. \n",
    "Suppose if we want to make sampling k items without replacement of items.\n",
    "This time we are going to have k memory cells.\n",
    "Follow the below algortihm:\n",
    "\n",
    "for the first k items in the stream simply assign them to the k memory cells.\n",
    "```\n",
    "for (i>k):\n",
    "\n",
    "       j = random number from 1,2,3,4...i\n",
    "       if(j<=k):\n",
    "           replace jth memory cell with ith element\n",
    "```"
   ]
  },
  {
   "cell_type": "markdown",
   "id": "5bd5e094",
   "metadata": {},
   "source": [
    "Now let us suppose the ith item is the occured in the chosen subset. \n",
    "\n",
    "$$\n",
    "\n",
    "pr[a_i \\in S] = \\frac ki \\times(1-\\frac1{i+1})\\times(1-\\frac 1{i+2})\\times .......\\times(1-\\frac 1n)\n",
    "\n",
    "$$\n",
    "\n",
    "\n",
    "since ith element must be chosen and placed in one of the k cells and (i+1)th, (i+2)th...nth elements should not fall on that location.\n",
    "\n",
    "Hence,\n",
    "\n",
    "$$\n",
    "\n",
    "pr[a_i \\in S] = \\frac ki \\times(\\frac{i}{i+1})\\times(\\frac{i+1}{i+2})\\times ....... \\times\\frac{n-1}n) \n",
    "\n",
    "$$\n",
    "\n",
    "$$\n",
    "\n",
    "pr[a_i \\in S] = \\frac kn \n",
    "\n",
    "$$\n",
    "\n",
    "Here reservoir is analogus to memeory cell. At at every step i, all items from 1,2,3,..$i$ will have the same probability $\\frac1i$ being in the reservoir."
   ]
  },
  {
   "cell_type": "markdown",
   "id": "81b35f2d",
   "metadata": {},
   "source": [
    "## Hashing"
   ]
  },
  {
   "cell_type": "markdown",
   "id": "594d95c2",
   "metadata": {},
   "source": [
    "Elements come from universe U, but we need to store only only n items where n<$|$U$|$. "
   ]
  },
  {
   "cell_type": "markdown",
   "id": "25879678",
   "metadata": {},
   "source": [
    "In hash table, we will have an array size m and hash function 'h' that maps elements from Universe to the set {0,1,2,..m-1}. We typically use $m ≪ |U|$ and $m < n$\n",
    "- Collisions happen when $x ≠ y$, but $h (x) = h(y)$"
   ]
  },
  {
   "cell_type": "markdown",
   "id": "9907df1c",
   "metadata": {},
   "source": [
    "In theory, we design for worst-case behaviour of data. So, We Need to choose hash function “randomly”.\n",
    "\n",
    "\n",
    "Suppose there is a Hash family H = {$h_1, h_2, ... $}. When creating a hash table, we choose a random hash function and start analysing the expected query time. However, the algorithm has to carry around the “description” of the hash\n",
    "function, it needs log($|H|$) bits of storage.\n",
    "```{warning}\n",
    "$|H|$ cannot be too big, in particular, it cannot be the set $[m]^U$, all possible\n",
    "functions\n",
    "\n",
    "```\n",
    "\n"
   ]
  },
  {
   "cell_type": "markdown",
   "id": "e83a4f43",
   "metadata": {},
   "source": [
    "## Hash Family"
   ]
  },
  {
   "cell_type": "markdown",
   "id": "36318d61",
   "metadata": {},
   "source": [
    "We need to define a way to create a hash function that requires only small amount of “parameter storage”. We can also look it as follows: Suppose we have a set of parameters $a_1$, $a_2$, $a_3$, .... $a_k$. Setting these parameters randomly defines the hash function. It is also important to create small hash families H such that choosing from it gives a function with \"good behaviour\". Here are some hash families."
   ]
  },
  {
   "cell_type": "markdown",
   "id": "dee86faf",
   "metadata": {},
   "source": [
    "$$\n",
    "\n",
    "Uniform \\ : \\ Pr_{h \\in H}[h(x) = i] = \\frac{1}{m} \\ \\  \\forall x,i\n",
    "\n",
    "$$\n",
    "\n",
    "$$\n",
    "\n",
    "Universal \\ : \\ Pr_{h}[h(x) = h(y)] = \\frac{1}{m} \\ \\  \\forall x\\neq y \n",
    "\n",
    "$$\n",
    "\n",
    "$$\n",
    "\n",
    "Near \\ Universal \\ : \\ Pr_{h}[h(x) = h(y)] \\leq \\frac{2}{m} \\ \\  \\forall x\\neq y \n",
    "\n",
    "$$"
   ]
  },
  {
   "cell_type": "markdown",
   "id": "26c0f1ba",
   "metadata": {},
   "source": [
    "## Chaining"
   ]
  },
  {
   "cell_type": "markdown",
   "id": "118186d4",
   "metadata": {},
   "source": [
    "When we are trying to insert items based on the hash values, if two items get the same hash values, we say that the two items are colliding. When  collisons happen, we store that elements in that hash value using linked lists."
   ]
  },
  {
   "cell_type": "markdown",
   "id": "dc745e29",
   "metadata": {},
   "source": [
    "```{figure} ../assets/2022_03_25_Streamingmodels_and_answering_inclusion_queries/hash.png\n",
    ":name: hash-1\n",
    "\n",
    "Hash table\n",
    "```"
   ]
  },
  {
   "cell_type": "markdown",
   "id": "140180e9",
   "metadata": {},
   "source": [
    "Suppose l(x) = length of the chain at position h(x).\n",
    "Expected time to query x = $O(1 + E_h[l(x)])$. It is same for insert and delete."
   ]
  },
  {
   "cell_type": "markdown",
   "id": "f17a434f",
   "metadata": {},
   "source": [
    "Now let us define \n",
    "\n",
    "\n",
    "$$ for \\ \\ x\\neq y \\ \\ C_{xy}=   \\left\\{\n",
    "\\begin{array}{ll}\n",
    "      1 & if \\ \\ h(x) = h(y)\\\\\n",
    "      0 & else\\\\\n",
    "\\end{array} \n",
    "\\right.  $$\n",
    "\n",
    "\n",
    "$$E_{h}[l(x)] = E_{h}[\\sum_{y}C_{xy}]$$\n",
    "\n",
    "For universal hashing\n",
    "\n",
    "$$E_{h}[l(x)] = E_{h}[\\sum_{y}C_{xy}] = \\sum_{y}E_{h}[p(x) = p(y)] = \\frac nm$$\n",
    "\n"
   ]
  },
  {
   "cell_type": "markdown",
   "id": "fd404723",
   "metadata": {},
   "source": [
    "## Prime Multiplicative Hashing"
   ]
  },
  {
   "cell_type": "markdown",
   "id": "2ceaea05",
   "metadata": {},
   "source": [
    "Prime Multiplicative hashing is used to design small and universal hash family.\n",
    "- Fix a prime number p > $|U|$\n",
    "- H = {$h_a$ (x) = ((ax + b)mod p)mod m, a, b ∈ {1, ... p − 1 }}\n",
    "- Choosing a hash function is same as choosing a, b ∈ {1, ... p − 1}."
   ]
  },
  {
   "cell_type": "markdown",
   "id": "6f03fa51",
   "metadata": {},
   "source": [
    "<footer>\n",
    "    Author(s): Shivasankaran V P, Gunuru Manoj Taraka Ramarao, Jayasurya Nalamolu \n",
    "</footer> "
   ]
  },
  {
   "cell_type": "code",
   "execution_count": null,
   "id": "18b6bc02",
   "metadata": {},
   "outputs": [],
   "source": []
  }
 ],
 "metadata": {
  "kernelspec": {
   "display_name": "Python 3",
   "language": "python",
   "name": "python3"
  },
  "language_info": {
   "codemirror_mode": {
    "name": "ipython",
    "version": 3
   },
   "file_extension": ".py",
   "mimetype": "text/x-python",
   "name": "python",
   "nbconvert_exporter": "python",
   "pygments_lexer": "ipython3",
   "version": "3.7.5"
  }
 },
 "nbformat": 4,
 "nbformat_minor": 5
}
