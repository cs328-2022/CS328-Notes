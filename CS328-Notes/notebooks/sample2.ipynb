{
 "cells": [
  {
   "cell_type": "markdown",
   "metadata": {},
   "source": [
    "# Lecture 4\n",
    "\n",
    "### Distance Functions\n",
    "- Function 1\n",
    "- Function 2\n",
    "- Function 3\n",
    "\n",
    "\n",
    "```{tip}\n",
    "This is a tip\n",
    "```\n",
    "\n",
    "```{figure} ../assets/2022_01_03_data_representations/cifar_frog_rgb.png\n",
    ":name: fig1\n",
    "\n",
    "This is figure 1 with a image of frog.\n",
    "```\n",
    "\n",
    "\n",
    "```{tabbed} Python\n",
    "import numpy\n",
    "```\n",
    "\n",
    "```{tabbed} C++\n",
    "#include `<iostream>`\n",
    "```"
   ]
  },
  {
   "cell_type": "code",
   "execution_count": 1,
   "metadata": {},
   "outputs": [],
   "source": [
    "import numpy as np"
   ]
  },
  {
   "cell_type": "code",
   "execution_count": 2,
   "metadata": {},
   "outputs": [
    {
     "name": "stdout",
     "output_type": "stream",
     "text": [
      "0\n",
      "1\n",
      "2\n",
      "3\n",
      "4\n",
      "5\n",
      "6\n",
      "7\n",
      "8\n",
      "9\n"
     ]
    }
   ],
   "source": [
    "for i in range(10):\n",
    "    print(i)"
   ]
  }
 ],
 "metadata": {
  "interpreter": {
   "hash": "6465a0fc9fb060d65e4de75d291069377ea847c8a8460823b21cfde5035a2571"
  },
  "kernelspec": {
   "display_name": "Python 3.9.7 64-bit ('cs328': conda)",
   "language": "python",
   "name": "python3"
  },
  "language_info": {
   "codemirror_mode": {
    "name": "ipython",
    "version": 3
   },
   "file_extension": ".py",
   "mimetype": "text/x-python",
   "name": "python",
   "nbconvert_exporter": "python",
   "pygments_lexer": "ipython3",
   "version": "3.9.7"
  },
  "orig_nbformat": 4
 },
 "nbformat": 4,
 "nbformat_minor": 2
}
