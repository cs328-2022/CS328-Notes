{
  "cells": [
    {
      "cell_type": "markdown",
      "metadata": {
        "id": "7Un8p7VtiTzu"
      },
      "source": [
        "  # Locality Sensitive Hashing\n",
        " "
      ]
    },
    {
      "cell_type": "markdown",
      "metadata": {
        "id": "raCQNL8ziirW"
      },
      "source": [
        "**Finding Nearest Points**: Given a set of data points and a query data point, we have to find the data point closest to this query point. We also have to find the K-nearest neighbours or some set of points which satisfy the condition \n",
        "$d(p,query)  < r$, where r is some given distance.   \n",
        "This point may be a representation of a multiset or a vector which represents a  document. "
      ]
    },
    {
      "cell_type": "markdown",
      "metadata": {
        "id": "3NInTKPiu__P"
      },
      "source": [
        "**If we are taking the datapoints as a part of a document, the near points  represent similarity within a document.**  \n",
        "The words in the documents need to be represented in some mathematical entity. "
      ]
    },
    {
      "cell_type": "markdown",
      "metadata": {
        "id": "5td6XzcWiiup"
      },
      "source": [
        "### Representation of a document as Sets"
      ]
    },
    {
      "cell_type": "markdown",
      "metadata": {
        "id": "NJ94j-nNiixs"
      },
      "source": [
        "Any document is represented by the words it contains. The words may be represented by their position on the document, but the spatial orientation of the words is not a very useful attribute of the representation.  \n",
        "Thus the document is represented by the set of words it consists."
      ]
    },
    {
      "cell_type": "markdown",
      "metadata": {
        "id": "S29HgnTpii0q"
      },
      "source": [
        "#### Separation of the elements in the set"
      ]
    },
    {
      "cell_type": "markdown",
      "metadata": {
        "id": "y_L1K2ssii54"
      },
      "source": [
        "Natural separators are not always reliable for a document. Thus a document is separated into Shingles.  \n",
        "**Shingles are a set of k consecutive characters that make up the entire document.** These Shingles are often hashed to 64bit numbers for each of storage.  \n",
        "A document = Set of Shingles"
      ]
    },
    {
      "cell_type": "markdown",
      "metadata": {
        "id": "thXo4iPKii-3"
      },
      "source": [
        "Example: A Sly fox jumped  \n",
        "$k=5$  \n",
        "Shingles:  \n",
        "a sly  \n",
        "sly f  \n",
        "ly fo  \n",
        ".  \n",
        ".  \n",
        ".  \n"
      ]
    },
    {
      "cell_type": "markdown",
      "metadata": {
        "id": "ba5ynal0ijjl"
      },
      "source": [
        "Shingles are more appropriate method of separation because, they represent and preserve the semantics of a document. Most of the time, while comparing the document, we have to take into account the semantic similarity.  "
      ]
    },
    {
      "cell_type": "markdown",
      "metadata": {
        "id": "eprvtSZVijo4"
      },
      "source": [
        "#### Measure of Similarity"
      ]
    },
    {
      "cell_type": "markdown",
      "metadata": {
        "id": "NwsaGMydijsZ"
      },
      "source": [
        "Jaccard Similarity $JS(A,B) =  \\frac {|A \\cap B|} {|A \\cup B|}$"
      ]
    },
    {
      "cell_type": "markdown",
      "metadata": {
        "id": "GlpDo7eCijvJ"
      },
      "source": [
        "$JS(A,B) \\in [0,1]$"
      ]
    },
    {
      "cell_type": "markdown",
      "metadata": {
        "id": "VNzVVyVoijyB"
      },
      "source": [
        "Jaccard Distcance : $JD(A,B) = 1 - JS(A,B)$"
      ]
    },
    {
      "cell_type": "markdown",
      "metadata": {
        "id": "WQgk9R0rij0j"
      },
      "source": [
        "$JD(A,B) \\in [0,1]$"
      ]
    },
    {
      "cell_type": "markdown",
      "metadata": {
        "id": "M3BSxDPrjYqn"
      },
      "source": [
        "Jaccard Distance is a metric property. It satisfies the following :  \n",
        "1.   \n",
        "   $JD(A,A) = 1-  \\frac {|A \\cap A|} {|A \\cup A|}$  \n",
        "   $JD(A,A) = 1-  1$  \n",
        "   $JD(A,A) = 0$  "
      ]
    },
    {
      "cell_type": "markdown",
      "metadata": {
        "id": "waph_Rk5jYuK"
      },
      "source": [
        "2.  \n",
        "   $JD(A,B) = 1-  \\frac {|A \\cap B|} {|A \\cup B|}$  \n",
        "   $JD(A,B) = 1-  \\frac {|B \\cap A|} {|B \\cup A|}$  \n",
        "   $JD(A,B) = 1-JS(B,A)$  \n",
        "   $JD(A,B) = JD(B,A)$  \n",
        "   Jaccard Distance is symmetric"
      ]
    },
    {
      "cell_type": "markdown",
      "metadata": {
        "id": "K64C_8RfjYxu"
      },
      "source": [
        "4. JD(x,y) can only lie between 0 and 1. Thus $JD(A,B) \\ge 0$"
      ]
    },
    {
      "cell_type": "markdown",
      "metadata": {
        "id": "O6FeCgjtjY2y"
      },
      "source": [
        "3. $JD(A,C) < JD(A,B) + JD(A,C)$   \n",
        "   Triangle inequality is also satisfied by Jaccard distance."
      ]
    },
    {
      "cell_type": "markdown",
      "metadata": {
        "id": "9TjRVRgwjY7D"
      },
      "source": [
        "### Representation of Documents as Vector"
      ]
    },
    {
      "cell_type": "markdown",
      "metadata": {
        "id": "_G2F9kJYjY9V"
      },
      "source": [
        "Vectors can be used in various instances for representation. They can be used to represent an image (over 64x64 or 128x128 domains) or the spatial distribution of data. Their use can also be extended to documents"
      ]
    },
    {
      "cell_type": "markdown",
      "metadata": {
        "id": "D6GHfXJzjY_6"
      },
      "source": [
        "In Documents, the vector representation is similar to that of sets. Each vector direction represents the position of a shingle in the document and the magnitude can be related to the weightage of the shingle."
      ]
    },
    {
      "cell_type": "markdown",
      "metadata": {
        "id": "ArqmErNUjZCw"
      },
      "source": [
        "### Similarity between Documents\n"
      ]
    },
    {
      "cell_type": "markdown",
      "metadata": {
        "id": "1KC6hQ_wtt5L"
      },
      "source": [
        "Given any Document, if we pass the shingles through a hash function and compare the hash values, we can get the values where shingles are exactly same. But there is no way we can say that two shingles are similar through the same approach.  \n",
        "Example:  \n",
        "x= acted , y= acted , z= acced  \n",
        "The Hash function would easily detect that x and y are exact but not detect that x and z are 80 % similar"
      ]
    },
    {
      "cell_type": "markdown",
      "metadata": {
        "id": "JEZ3GAqt-E_k"
      },
      "source": [
        "## Locality Sensitive property "
      ]
    },
    {
      "cell_type": "markdown",
      "metadata": {
        "id": "FJl2dt3Vtt7o"
      },
      "source": [
        "The exact equality of the two shingles are detected because they are assigned to the same index by the hash function. Taking this idea, **Indyk Motwani** repuroposed the occurance of collisions in the hash functions, i.e., if two entities x and y are similar, they collide (same value is produced by the hash function) and not if they are vastly different.  \n",
        "Relating to our earlier problem of finding nearest points. If two points in a space are nearby, the chances of collision is high.  \n",
        "$Pr[h(x)=h(y)] $ is high if x and y are close  \n",
        "$Pr[h(x)=h(y)] $ is low if x and y are far apart  "
      ]
    },
    {
      "cell_type": "markdown",
      "metadata": {
        "id": "ib62-52Rtt-B"
      },
      "source": [
        "Such kind of function will solve both the problems, however no such clear function exists. To slove such problems, a hash family is designed, given the distance function or similarity function.  \n",
        "At runtine, a single hash function is chosen from this family to calculate the similarity.  \n",
        "  \n",
        "This function is then called Locality sensitive if the above two probabilities is satisfied. "
      ]
    },
    {
      "cell_type": "markdown",
      "metadata": {
        "id": "lLefKhPatuAc"
      },
      "source": [
        "In Terms of similarity function, given a universe U, and siilarity s:U x U -> [0,1], does there exist a probability distribution over some hash family H such that  \n",
        "$Pr[h(x)=h(y)] = S(x,y)$  \n",
        "$S(x,y) =1 \\Rightarrow x=y$  \n",
        "$S(x,y) = S(x,y)$"
      ]
    },
    {
      "cell_type": "markdown",
      "metadata": {
        "id": "Exrpz6_r_asZ"
      },
      "source": [
        "## Hamming Distance"
      ]
    },
    {
      "cell_type": "markdown",
      "metadata": {
        "id": "A1A-QIVRtuCZ"
      },
      "source": [
        "Used when the points are denoted by a bit string of fixed and equal length.  \n",
        "point $\\to$ bit string of length d.  \n",
        "H(x,y) = {i, $x_{i} \\neq y_{i}$}  \n",
        "$S_{H}(x,y) = 1-\\frac {H(x,y)} {d}$"
      ]
    },
    {
      "cell_type": "markdown",
      "metadata": {
        "id": "diWNJNx5tuE2"
      },
      "source": [
        "For Example: x=1011010001, y= 0111010101   \n",
        "d=10 \n",
        "number of dissimilarities H(x,y) =3  \n",
        "S(x,y) = 1-3/10 =0.7"
      ]
    },
    {
      "cell_type": "markdown",
      "metadata": {
        "id": "vlNygfOHtuHk"
      },
      "source": [
        "#### Locality Sensitive function for this distance?"
      ]
    },
    {
      "cell_type": "markdown",
      "metadata": {
        "id": "pEygk-1mtuKZ"
      },
      "source": [
        "In order to create a LSH for such a problem, the hash family must be sampling a set of positions. Let the be a hash family such that  \n",
        "H ={$h_{i}(x)=x_{i} | i=1,2... d$}  \n",
        "|H| = d      \n",
        "From this family H, a function h is chosen randomy to achieve the probability of similarity.\n",
        "$Pr_{h\\in H}[h(x)=h(y)] = S(x,y)$  "
      ]
    },
    {
      "cell_type": "markdown",
      "metadata": {
        "id": "md4hDRXMtuN4"
      },
      "source": [
        "If we extend the dame function to k coordinates instead of 1, we get a more precise equation. In the above example itself, let S={1,5,7}"
      ]
    },
    {
      "cell_type": "markdown",
      "metadata": {
        "id": "j0F2Mw8GKyqP"
      },
      "source": [
        "## Existence of Locality Sensitive Hashing\n",
        "\n",
        "Since we are choosing k-coordinates, where k = |S| and we know that for a single coordinate:\n",
        "\n",
        "Pr[h(x) = h(y)] = 1 - $\\frac{H(x,y)} {d} = S_{h}(x,y)$ \n",
        "\n",
        "\n",
        "The Probability for k coordinates:\n",
        "\n",
        "Pr[h(x) = h(y)] = $(1 - \\frac{H(x,y} {d})^{k} = (S_{H}(x,y))^{k}$\n"
      ]
    },
    {
      "cell_type": "markdown",
      "metadata": {},
      "source": [
        "## Locality Sensitive Hashing for Angle Distance\n",
        "\n",
        "![img](../assets/2022_04_08_LSH/LSH.png)"
      ]
    },
    {
      "cell_type": "markdown",
      "metadata": {
        "id": "Tm_XiVSnLsIv"
      },
      "source": [
        "Let x and y be unit normal vectors, i.e. radii in a circle of radius 1.\n",
        "\n",
        "Therefore, |x| = |y| = 1\n",
        "\n",
        "x,y = |x||y|cos$θ$\n",
        "\n",
        "$⇒$ x.y = cos$θ$\n",
        "\n",
        "$\\theta = cos^{-1}(x.y) = d(x,y)$ [angle distance]\n",
        "\n",
        "Since, the total angular distance in a circle is [-x,x]\n",
        "\n",
        "S(x,y) = 1 - $\\frac {\\theta} {x} \\in$  [0,1]\n",
        "\n",
        "Corresponding notion of local sensitivity hashing:\n",
        "\n",
        "Choose a normal vector v at random \n",
        "\n",
        "Now, $h_{v}$(x) = sign(v.x) = $±1$  (or '1' and '0' in binary)\n",
        "\n",
        "Let P be a hyperplane $\\perp$ to v\n",
        "\n",
        "Then, the half containing $\\vec{v}$ yields +1 and the other half yields -1\n",
        "\n",
        "Pr[h(x) = h(y)] = 1 - $\\frac {\\theta} {x}$\n",
        "\n",
        "The hyperplane gives different signs for x and y if it passes through $\\theta$ with probability $\\frac {\\theta} {x}$\n",
        "\n",
        "Thus the probability of x and y giving some signs is 1 - $\\frac {\\theta} {x}$\n"
      ]
    },
    {
      "cell_type": "markdown",
      "metadata": {
        "id": "MnYIC6-hOrBN"
      },
      "source": [
        "Aside : Picking a direction u.a.r\n",
        "\n",
        "1) Picking a vector in d-dimensions (x $\\in$ R$^d$) such that norm of x = 1 (|x|$_{2}$ = 1)\n",
        "and, the direction is uniform along all possible directions\n",
        "\n",
        "2) Take the Gaussian distribution and generate d independent samples.\n",
        "\n",
        "x = ($x_{1},x_{2}, ..... x_{d}) \\thicksim  N(0,1)$\n",
        "\n",
        "3) Normalize it with the length of the vector $(\\frac {x} {|x|_{2}})$\n",
        "\n",
        "L$_{2}$ norm of x = $\\sqrt{\\Sigma x_{i}^2} $\n",
        "\n",
        "4) Writing the equation in polar form gives us independent r and $θ$.\n",
        "With r normalized, we are left with a uniformly chosen direction."
      ]
    },
    {
      "cell_type": "markdown",
      "metadata": {},
      "source": [
        "<footer>\n",
        "Authors: Kanishk Singh , Krishnam Hasija , Paras Gupta , Shreyshi Singh\n",
        "</footer>"
      ]
    },
    {
      "cell_type": "markdown",
      "metadata": {},
      "source": []
    }
  ],
  "metadata": {
    "colab": {
      "collapsed_sections": [],
      "name": "ScribNotes.ipynb",
      "provenance": [],
      "toc_visible": true
    },
    "kernelspec": {
      "display_name": "Python 3",
      "name": "python3"
    },
    "language_info": {
      "name": "python"
    }
  },
  "nbformat": 4,
  "nbformat_minor": 0
}
